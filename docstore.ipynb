{
 "cells": [
  {
   "cell_type": "code",
   "execution_count": 1,
   "id": "fef13e67",
   "metadata": {},
   "outputs": [],
   "source": [
    "from dotenv import load_dotenv\n",
    "from langchain_community.document_loaders import PyPDFLoader\n",
    "import os\n",
    "from langchain.storage import LocalFileStore\n",
    "from langchain.storage import create_kv_docstore\n",
    "from main import load_vector_store\n",
    "from langchain.text_splitter import RecursiveCharacterTextSplitter\n",
    "from langchain.retrievers import ParentDocumentRetriever\n",
    "\n",
    "load_dotenv()\n",
    "\n",
    "documents = PyPDFLoader('가뭄 대비 농작물 관리 요령.pdf').load()\n",
    "\n",
    "parent_docstore_path = './parent_docstore'\n",
    "\n",
    "os.makedirs(parent_docstore_path, exist_ok = True)\n",
    "\n",
    "store = create_kv_docstore(LocalFileStore(parent_docstore_path))\n",
    "\n",
    "vector_db = load_vector_store()\n",
    "\n",
    "child_splitter = RecursiveCharacterTextSplitter(\n",
    "    chunk_size = 1000,\n",
    "    chunk_overlap = 150,\n",
    "    separators = ['\\n\\n', '\\n', '.', ' ', '']\n",
    ")\n",
    "\n",
    "indexer = ParentDocumentRetriever(\n",
    "    vectorstore = vector_db,\n",
    "    docstore = store,\n",
    "    child_splitter = child_splitter\n",
    ")\n",
    "\n",
    "indexer.add_documents(documents)"
   ]
  }
 ],
 "metadata": {
  "kernelspec": {
   "display_name": "langchain_venv",
   "language": "python",
   "name": "python3"
  },
  "language_info": {
   "codemirror_mode": {
    "name": "ipython",
    "version": 3
   },
   "file_extension": ".py",
   "mimetype": "text/x-python",
   "name": "python",
   "nbconvert_exporter": "python",
   "pygments_lexer": "ipython3",
   "version": "3.12.10"
  }
 },
 "nbformat": 4,
 "nbformat_minor": 5
}
