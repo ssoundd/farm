{
 "cells": [
  {
   "cell_type": "code",
   "execution_count": 1,
   "id": "3db86787",
   "metadata": {},
   "outputs": [
    {
     "name": "stderr",
     "output_type": "stream",
     "text": [
      "C:\\Users\\main\\AppData\\Local\\Temp\\ipykernel_20976\\2337420168.py:10: LangChainDeprecationWarning: The class `Chroma` was deprecated in LangChain 0.2.9 and will be removed in 1.0. An updated version of the class exists in the :class:`~langchain-chroma package and should be used instead. To use it run `pip install -U :class:`~langchain-chroma` and import as `from :class:`~langchain_chroma import Chroma``.\n",
      "  farm_vs = Chroma(\n"
     ]
    },
    {
     "data": {
      "text/plain": [
       "['32cdac40-96a8-48e4-a29b-33e43c1ea800',\n",
       " '0e58498a-8d2d-4471-962c-2f1ca759d070',\n",
       " '00adac90-1fb5-4ae4-9ecb-e51349087eaf',\n",
       " 'afd065ee-2f83-483c-9454-206f834a7492',\n",
       " '22a00d43-c24e-49e3-aadf-cb32d1449acd',\n",
       " 'c8677bb1-0f6a-425a-bd8d-4252b7e829a1',\n",
       " '66ff17d4-1440-49e8-936c-2f4d4c91c137',\n",
       " 'a219bb2a-bdf3-437f-ad8e-85ac8fd64be4',\n",
       " 'f52d0f58-0e36-4e8e-b575-1be3c7949df6',\n",
       " '4056f26b-c85a-4b1c-baf6-4d385174538f',\n",
       " '827e3771-dfca-4f19-8374-bc4e5970f2e5',\n",
       " '5369253a-c5da-4387-b520-0d21b47cf292',\n",
       " '8d59d2fa-96d2-4a6b-b6f4-77242301a737',\n",
       " '755de9a1-0068-437c-84a3-260152918bcf',\n",
       " 'f02174b1-68b4-4430-9413-8eb74c836698',\n",
       " '04214640-5abf-4ae2-8437-21ae74376048',\n",
       " 'da0057c0-e7c9-454d-b76b-78868f98ba9f',\n",
       " 'b12bd9a6-8662-4631-81ab-ef8fae6e19bc',\n",
       " 'e5338d14-ec2c-4cad-bb57-f5bf0af77a61',\n",
       " '3c61aee6-cbf7-413c-9b17-fcbac149249c',\n",
       " 'b9d6a640-ed8c-4cf2-93a6-6bddedbd38fd',\n",
       " 'c8650d7f-e0dc-4ccd-b33c-b3b398c62223',\n",
       " '01228a3c-b1f5-4bcb-b5ed-b31cc0049389',\n",
       " '07eea793-7a28-4e95-8eed-589d1d64a75b',\n",
       " 'd99f956d-acaf-4e05-84bf-99b20f1a2475',\n",
       " 'd6bbcffe-cd16-41ed-a544-a54609bc300d',\n",
       " '3cf23746-37c8-41b6-9625-27e8fbdbaf2a',\n",
       " 'ab72311d-d46a-4f23-9c51-a7805bce38f7',\n",
       " '33fafa34-ed07-408c-aedc-9805fd3d44c2',\n",
       " '43647f91-e54d-49b4-9675-e5da87d2cdbd',\n",
       " '5c0c94be-b8e0-4e6f-85d7-b269467de399',\n",
       " 'c1c44616-cc9a-4cb1-84b4-9f2d023b609f',\n",
       " '3190b31c-5e40-4c52-853e-f9dd71a012e0',\n",
       " '3747c444-6c82-4f20-8b5b-945ad0dc848f',\n",
       " 'e048b468-aa09-44c1-be48-498428f0b75d',\n",
       " 'aa123314-7ac6-4898-bb33-2ecb3f73c767',\n",
       " '47864187-a7e7-4e8b-a577-e3506928ddba',\n",
       " '6b94ae85-3650-435f-b43e-71d9ed4e9649',\n",
       " '0204d37e-90ab-4f0f-9789-75ede1cb8236',\n",
       " '477d2387-ab00-4fd5-8600-97a0720af56d',\n",
       " '3c2db984-054b-4c01-a44a-8cea3217f68a',\n",
       " 'b6d17a1a-9279-4fb2-b9b1-4b6055f0ac35',\n",
       " '3d069f1b-7540-4269-8ace-126b6f3a3005',\n",
       " '3a0a65cb-e804-4f0e-9f30-c803e1b8fb9b',\n",
       " 'e9325393-7a72-4f1b-8e49-e572f9d1f412',\n",
       " '390fed31-f0bc-4c76-ab6e-257605098636',\n",
       " '9b5833c3-ef53-47ad-bad9-75f1d629cb52']"
      ]
     },
     "execution_count": 1,
     "metadata": {},
     "output_type": "execute_result"
    }
   ],
   "source": [
    "from dotenv import load_dotenv\n",
    "from langchain_community.vectorstores import Chroma\n",
    "from langchain_openai import ChatOpenAI, OpenAIEmbeddings\n",
    "from langchain_core.output_parsers import StrOutputParser\n",
    "from langchain_core.prompts import ChatPromptTemplate\n",
    "from langchain_core.documents import Document\n",
    "\n",
    "load_dotenv()\n",
    "\n",
    "farm_vs = Chroma(\n",
    "    persist_directory = \"./farm_db\",\n",
    "    embedding_function = OpenAIEmbeddings(model = \"text-embedding-3-large\"),\n",
    "    collection_name = \"f_db\"\n",
    ")\n",
    "\n",
    "llm = ChatOpenAI(model = \"gpt-4.1\")\n",
    "\n",
    "parser = StrOutputParser()\n",
    "\n",
    "prompt = ChatPromptTemplate.from_messages([\n",
    "    (\"system\", \"당신은 문서를 한국어로 요약하는 전문가입니다.\"),\n",
    "    (\"user\", \"주어진 문서를 문장 3개로 요약해 주세요. 각 문장은 • 기호를 사용한 불릿 포인트 형식으로 작성해 주세요.\\n\\n[주어진 문서]\\n{document}\")\n",
    "])\n",
    "\n",
    "chain = prompt | llm | parser\n",
    "\n",
    "docs = farm_vs.get()\n",
    "\n",
    "summarize_doc_list = []\n",
    "\n",
    "for doc in docs[\"documents\"]:\n",
    "    summary = chain.invoke({\"document\" : doc})\n",
    "    summarize_doc = Document(page_content = summary, metadata = {\"source\" : \"summary\"})\n",
    "    summarize_doc_list.append(summarize_doc)\n",
    "\n",
    "farm_vs.add_documents(summarize_doc_list)"
   ]
  }
 ],
 "metadata": {
  "kernelspec": {
   "display_name": "langchain_venv",
   "language": "python",
   "name": "python3"
  },
  "language_info": {
   "codemirror_mode": {
    "name": "ipython",
    "version": 3
   },
   "file_extension": ".py",
   "mimetype": "text/x-python",
   "name": "python",
   "nbconvert_exporter": "python",
   "pygments_lexer": "ipython3",
   "version": "3.12.10"
  }
 },
 "nbformat": 4,
 "nbformat_minor": 5
}
